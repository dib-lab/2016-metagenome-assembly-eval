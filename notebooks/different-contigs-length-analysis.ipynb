{
 "cells": [
  {
   "cell_type": "code",
   "execution_count": 2,
   "metadata": {
    "collapsed": true
   },
   "outputs": [],
   "source": [
    "import matplotlib\n",
    "import numpy as np\n",
    "import matplotlib.pyplot as plt\n",
    "import matplotlib.lines as mlines\n",
    "from matplotlib.pyplot import *"
   ]
  },
  {
   "cell_type": "code",
   "execution_count": 3,
   "metadata": {
    "collapsed": true
   },
   "outputs": [],
   "source": [
    "contigs =[0, 500, 2000]"
   ]
  },
  {
   "cell_type": "code",
   "execution_count": 4,
   "metadata": {
    "collapsed": false
   },
   "outputs": [],
   "source": [
    "iqc_N50 =[48534,49773,55703] \n",
    "sqc_N50 =[40817,42773,48595] \n",
    "mqc_N50 =[30131, 35136,42017]\n",
    "\n",
    " "
   ]
  },
  {
   "cell_type": "code",
   "execution_count": 5,
   "metadata": {
    "collapsed": false
   },
   "outputs": [
    {
     "name": "stderr",
     "output_type": "stream",
     "text": [
      "/Users/sherine/anaconda/lib/python2.7/site-packages/matplotlib/cbook.py:137: MatplotlibDeprecationWarning: The \"loc\" positional argument to legend is deprecated. Please use the \"loc\" keyword instead.\n",
      "  warnings.warn(message, mplDeprecation, stacklevel=1)\n",
      "/Users/sherine/anaconda/lib/python2.7/site-packages/matplotlib/legend.py:611: UserWarning: Legend does not support 48534 instances.\n",
      "A proxy artist may be used instead.\n",
      "See: http://matplotlib.org/users/legend_guide.html#using-proxy-artist\n",
      "  \"#using-proxy-artist\".format(orig_handle))\n",
      "/Users/sherine/anaconda/lib/python2.7/site-packages/matplotlib/legend.py:611: UserWarning: Legend does not support 49773 instances.\n",
      "A proxy artist may be used instead.\n",
      "See: http://matplotlib.org/users/legend_guide.html#using-proxy-artist\n",
      "  \"#using-proxy-artist\".format(orig_handle))\n",
      "/Users/sherine/anaconda/lib/python2.7/site-packages/matplotlib/legend.py:611: UserWarning: Legend does not support 55703 instances.\n",
      "A proxy artist may be used instead.\n",
      "See: http://matplotlib.org/users/legend_guide.html#using-proxy-artist\n",
      "  \"#using-proxy-artist\".format(orig_handle))\n",
      "/Users/sherine/anaconda/lib/python2.7/site-packages/matplotlib/legend.py:611: UserWarning: Legend does not support 40817 instances.\n",
      "A proxy artist may be used instead.\n",
      "See: http://matplotlib.org/users/legend_guide.html#using-proxy-artist\n",
      "  \"#using-proxy-artist\".format(orig_handle))\n",
      "/Users/sherine/anaconda/lib/python2.7/site-packages/matplotlib/legend.py:611: UserWarning: Legend does not support 42773 instances.\n",
      "A proxy artist may be used instead.\n",
      "See: http://matplotlib.org/users/legend_guide.html#using-proxy-artist\n",
      "  \"#using-proxy-artist\".format(orig_handle))\n",
      "/Users/sherine/anaconda/lib/python2.7/site-packages/matplotlib/legend.py:611: UserWarning: Legend does not support 48595 instances.\n",
      "A proxy artist may be used instead.\n",
      "See: http://matplotlib.org/users/legend_guide.html#using-proxy-artist\n",
      "  \"#using-proxy-artist\".format(orig_handle))\n",
      "/Users/sherine/anaconda/lib/python2.7/site-packages/matplotlib/legend.py:611: UserWarning: Legend does not support 30131 instances.\n",
      "A proxy artist may be used instead.\n",
      "See: http://matplotlib.org/users/legend_guide.html#using-proxy-artist\n",
      "  \"#using-proxy-artist\".format(orig_handle))\n",
      "/Users/sherine/anaconda/lib/python2.7/site-packages/matplotlib/legend.py:611: UserWarning: Legend does not support 35136 instances.\n",
      "A proxy artist may be used instead.\n",
      "See: http://matplotlib.org/users/legend_guide.html#using-proxy-artist\n",
      "  \"#using-proxy-artist\".format(orig_handle))\n",
      "/Users/sherine/anaconda/lib/python2.7/site-packages/matplotlib/legend.py:611: UserWarning: Legend does not support 42017 instances.\n",
      "A proxy artist may be used instead.\n",
      "See: http://matplotlib.org/users/legend_guide.html#using-proxy-artist\n",
      "  \"#using-proxy-artist\".format(orig_handle))\n"
     ]
    },
    {
     "data": {
      "text/plain": [
       "<matplotlib.legend.Legend at 0x10a4085d0>"
      ]
     },
     "execution_count": 5,
     "metadata": {},
     "output_type": "execute_result"
    }
   ],
   "source": [
    " \n",
    "\n",
    "tl_iqc= plt.plot(contigs, iqc_N50,color='#A9A9A9', linestyle='solid', linewidth=3, label ='IDBA-UD', marker =\"*\")\n",
    "plt.legend(iqc_N50, \"IDBA-UD\", 'best')\n",
    "\n",
    "tl_sqc= plt.plot(contigs, sqc_N50,color='#FFA500', linestyle='solid', linewidth=3, label ='SPAdes', marker =\"*\")\n",
    "plt.legend(sqc_N50, \"SPAdes\", 'best')\n",
    "\n",
    "tl_mqc= plt.plot(contigs, mqc_N50,color='g', linestyle='solid', linewidth=3, label ='Megahit', marker =\"*\")\n",
    "plt.legend(mqc_N50, \"Megahit\", 'best')"
   ]
  },
  {
   "cell_type": "code",
   "execution_count": 6,
   "metadata": {
    "collapsed": false
   },
   "outputs": [],
   "source": [
    "plt.title('N50 using Different Minimum Contigs Length')\n",
    "plt.xlabel('Minimum Contig')\n",
    "plt.ylabel('N50')\n",
    "plt.legend(loc='center right', bbox_to_anchor=(0.85, 0.87),\n",
    "          fancybox=True, shadow=True, ncol=1)\n",
    "plt.show()"
   ]
  },
  {
   "cell_type": "code",
   "execution_count": null,
   "metadata": {
    "collapsed": true
   },
   "outputs": [],
   "source": []
  },
  {
   "cell_type": "code",
   "execution_count": 7,
   "metadata": {
    "collapsed": false
   },
   "outputs": [],
   "source": [
    "iqc_nContigs =[27444,21830,11174] \n",
    "sqc_nContigs =[33704,22808,11178] \n",
    "mqc_nContigs =[75497,28920, 12619]\n"
   ]
  },
  {
   "cell_type": "code",
   "execution_count": 8,
   "metadata": {
    "collapsed": false
   },
   "outputs": [
    {
     "name": "stderr",
     "output_type": "stream",
     "text": [
      "/Users/sherine/anaconda/lib/python2.7/site-packages/matplotlib/legend.py:611: UserWarning: Legend does not support 27444 instances.\n",
      "A proxy artist may be used instead.\n",
      "See: http://matplotlib.org/users/legend_guide.html#using-proxy-artist\n",
      "  \"#using-proxy-artist\".format(orig_handle))\n",
      "/Users/sherine/anaconda/lib/python2.7/site-packages/matplotlib/legend.py:611: UserWarning: Legend does not support 21830 instances.\n",
      "A proxy artist may be used instead.\n",
      "See: http://matplotlib.org/users/legend_guide.html#using-proxy-artist\n",
      "  \"#using-proxy-artist\".format(orig_handle))\n",
      "/Users/sherine/anaconda/lib/python2.7/site-packages/matplotlib/legend.py:611: UserWarning: Legend does not support 11174 instances.\n",
      "A proxy artist may be used instead.\n",
      "See: http://matplotlib.org/users/legend_guide.html#using-proxy-artist\n",
      "  \"#using-proxy-artist\".format(orig_handle))\n",
      "/Users/sherine/anaconda/lib/python2.7/site-packages/matplotlib/legend.py:611: UserWarning: Legend does not support 33704 instances.\n",
      "A proxy artist may be used instead.\n",
      "See: http://matplotlib.org/users/legend_guide.html#using-proxy-artist\n",
      "  \"#using-proxy-artist\".format(orig_handle))\n",
      "/Users/sherine/anaconda/lib/python2.7/site-packages/matplotlib/legend.py:611: UserWarning: Legend does not support 22808 instances.\n",
      "A proxy artist may be used instead.\n",
      "See: http://matplotlib.org/users/legend_guide.html#using-proxy-artist\n",
      "  \"#using-proxy-artist\".format(orig_handle))\n",
      "/Users/sherine/anaconda/lib/python2.7/site-packages/matplotlib/legend.py:611: UserWarning: Legend does not support 11178 instances.\n",
      "A proxy artist may be used instead.\n",
      "See: http://matplotlib.org/users/legend_guide.html#using-proxy-artist\n",
      "  \"#using-proxy-artist\".format(orig_handle))\n",
      "/Users/sherine/anaconda/lib/python2.7/site-packages/matplotlib/legend.py:611: UserWarning: Legend does not support 75497 instances.\n",
      "A proxy artist may be used instead.\n",
      "See: http://matplotlib.org/users/legend_guide.html#using-proxy-artist\n",
      "  \"#using-proxy-artist\".format(orig_handle))\n",
      "/Users/sherine/anaconda/lib/python2.7/site-packages/matplotlib/legend.py:611: UserWarning: Legend does not support 28920 instances.\n",
      "A proxy artist may be used instead.\n",
      "See: http://matplotlib.org/users/legend_guide.html#using-proxy-artist\n",
      "  \"#using-proxy-artist\".format(orig_handle))\n",
      "/Users/sherine/anaconda/lib/python2.7/site-packages/matplotlib/legend.py:611: UserWarning: Legend does not support 12619 instances.\n",
      "A proxy artist may be used instead.\n",
      "See: http://matplotlib.org/users/legend_guide.html#using-proxy-artist\n",
      "  \"#using-proxy-artist\".format(orig_handle))\n"
     ]
    },
    {
     "data": {
      "text/plain": [
       "<matplotlib.legend.Legend at 0x10ab80bd0>"
      ]
     },
     "execution_count": 8,
     "metadata": {},
     "output_type": "execute_result"
    }
   ],
   "source": [
    "\n",
    "\n",
    "tl_iqc= plt.plot(contigs, iqc_nContigs, color='#A9A9A9', linestyle='solid', linewidth=3, label ='IDBA-UD', marker =\"*\")\n",
    "plt.legend(iqc_nContigs, \"IDBA-UD\", 'best')\n",
    "\n",
    "tl_sqc= plt.plot(contigs, sqc_nContigs,color='#FFA500', linestyle='solid', linewidth=3, label ='SPAdes', marker =\"*\")\n",
    "plt.legend(sqc_nContigs, \"SPAdes\", 'best')\n",
    "\n",
    "tl_mqc= plt.plot(contigs, mqc_nContigs,color='g', linestyle='solid', linewidth=3, label ='Megahit', marker =\"*\")\n",
    "plt.legend(mqc_nContigs, \"Megahit\", 'best')"
   ]
  },
  {
   "cell_type": "code",
   "execution_count": 9,
   "metadata": {
    "collapsed": true
   },
   "outputs": [],
   "source": [
    "plt.title('No of Contigs using Different Minimum Contigs Length')\n",
    "plt.xlabel('Minimum Contig')\n",
    "plt.ylabel('Number of Contigs')\n",
    "plt.legend(loc='center right', bbox_to_anchor=(0.85, 0.87),\n",
    "          fancybox=True, shadow=True, ncol=1)\n",
    "plt.show()"
   ]
  },
  {
   "cell_type": "code",
   "execution_count": null,
   "metadata": {
    "collapsed": true
   },
   "outputs": [],
   "source": []
  }
 ],
 "metadata": {
  "kernelspec": {
   "display_name": "Python 2",
   "language": "python",
   "name": "python2"
  },
  "language_info": {
   "codemirror_mode": {
    "name": "ipython",
    "version": 2
   },
   "file_extension": ".py",
   "mimetype": "text/x-python",
   "name": "python",
   "nbconvert_exporter": "python",
   "pygments_lexer": "ipython2",
   "version": "2.7.10"
  }
 },
 "nbformat": 4,
 "nbformat_minor": 0
}
