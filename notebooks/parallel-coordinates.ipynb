{
 "cells": [
  {
   "cell_type": "code",
   "execution_count": 17,
   "metadata": {
    "collapsed": false
   },
   "outputs": [],
   "source": [
    "#%pylab inline"
   ]
  },
  {
   "cell_type": "code",
   "execution_count": 18,
   "metadata": {
    "collapsed": false,
    "scrolled": true
   },
   "outputs": [],
   "source": [
    "import matplotlib\n",
    "import numpy as np\n",
    "import pandas as pd\n",
    "import matplotlib.pyplot as plt\n",
    "import matplotlib.lines as mlines\n",
    "from matplotlib.pyplot import *"
   ]
  },
  {
   "cell_type": "code",
   "execution_count": 19,
   "metadata": {
    "collapsed": false,
    "scrolled": true
   },
   "outputs": [],
   "source": [
    "genomesize=205603715\n",
    "mis=[16566891,21777032,10597529,10686421,25594315,27668818,23103154,17319534,16922852,18440791,14338099,11814070]\n",
    "#revmis[:] = [genomesize-x for x in mis]"
   ]
  },
  {
   "cell_type": "code",
   "execution_count": 20,
   "metadata": {
    "collapsed": false,
    "scrolled": false
   },
   "outputs": [
    {
     "data": {
      "text/html": [
       "<div>\n",
       "<table border=\"1\" class=\"dataframe\">\n",
       "  <thead>\n",
       "    <tr style=\"text-align: right;\">\n",
       "      <th></th>\n",
       "      <th>gf</th>\n",
       "      <th>n50</th>\n",
       "      <th>reverse misassembly</th>\n",
       "    </tr>\n",
       "  </thead>\n",
       "  <tbody>\n",
       "    <tr>\n",
       "      <th>vqc</th>\n",
       "      <td>72.95</td>\n",
       "      <td>38028</td>\n",
       "      <td>189036824</td>\n",
       "    </tr>\n",
       "    <tr>\n",
       "      <th>iqc</th>\n",
       "      <td>90.97</td>\n",
       "      <td>49773</td>\n",
       "      <td>183826683</td>\n",
       "    </tr>\n",
       "    <tr>\n",
       "      <th>sqc</th>\n",
       "      <td>90.42</td>\n",
       "      <td>38841</td>\n",
       "      <td>195006186</td>\n",
       "    </tr>\n",
       "    <tr>\n",
       "      <th>mqc</th>\n",
       "      <td>90.36</td>\n",
       "      <td>32251</td>\n",
       "      <td>194917294</td>\n",
       "    </tr>\n",
       "    <tr>\n",
       "      <th>vdigi</th>\n",
       "      <td>89.04</td>\n",
       "      <td>18944</td>\n",
       "      <td>180009400</td>\n",
       "    </tr>\n",
       "    <tr>\n",
       "      <th>idigi</th>\n",
       "      <td>91.00</td>\n",
       "      <td>47828</td>\n",
       "      <td>177934897</td>\n",
       "    </tr>\n",
       "    <tr>\n",
       "      <th>sdigi</th>\n",
       "      <td>90.17</td>\n",
       "      <td>35580</td>\n",
       "      <td>182500561</td>\n",
       "    </tr>\n",
       "    <tr>\n",
       "      <th>mdigi</th>\n",
       "      <td>89.92</td>\n",
       "      <td>27302</td>\n",
       "      <td>188284181</td>\n",
       "    </tr>\n",
       "    <tr>\n",
       "      <th>vpart</th>\n",
       "      <td>88.88</td>\n",
       "      <td>8504</td>\n",
       "      <td>188680863</td>\n",
       "    </tr>\n",
       "    <tr>\n",
       "      <th>ipart</th>\n",
       "      <td>90.08</td>\n",
       "      <td>26575</td>\n",
       "      <td>187162924</td>\n",
       "    </tr>\n",
       "    <tr>\n",
       "      <th>spart</th>\n",
       "      <td>89.27</td>\n",
       "      <td>22319</td>\n",
       "      <td>191265616</td>\n",
       "    </tr>\n",
       "    <tr>\n",
       "      <th>mpart</th>\n",
       "      <td>88.77</td>\n",
       "      <td>174</td>\n",
       "      <td>193789645</td>\n",
       "    </tr>\n",
       "  </tbody>\n",
       "</table>\n",
       "</div>"
      ],
      "text/plain": [
       "          gf    n50  reverse misassembly\n",
       "vqc    72.95  38028            189036824\n",
       "iqc    90.97  49773            183826683\n",
       "sqc    90.42  38841            195006186\n",
       "mqc    90.36  32251            194917294\n",
       "vdigi  89.04  18944            180009400\n",
       "idigi  91.00  47828            177934897\n",
       "sdigi  90.17  35580            182500561\n",
       "mdigi  89.92  27302            188284181\n",
       "vpart  88.88   8504            188680863\n",
       "ipart  90.08  26575            187162924\n",
       "spart  89.27  22319            191265616\n",
       "mpart  88.77    174            193789645"
      ]
     },
     "execution_count": 20,
     "metadata": {},
     "output_type": "execute_result"
    }
   ],
   "source": [
    "d = {'gf' : pd.Series([72.95, 90.97, 90.42,90.36,89.04,91.00,90.17,89.92,88.88,90.08,89.27,88.77],\n",
    "                      index=['vqc', 'iqc', 'sqc','mqc','vdigi','idigi','sdigi','mdigi','vpart','ipart','spart','mpart']),\n",
    "     'n50' : pd.Series([38028,49773,38841,32251,18944,47828,35580,27302,8504,26575,22319,174],\n",
    "                       index=['vqc', 'iqc', 'sqc','mqc','vdigi','idigi','sdigi','mdigi','vpart','ipart','spart','mpart']),\n",
    "     'reverse misassembly' : pd.Series([genomesize-16566891,genomesize-21777032,genomesize-10597529,genomesize-10686421,genomesize-25594315,genomesize-27668818,genomesize-23103154,genomesize-17319534,genomesize-16922852,genomesize-18440791,genomesize-14338099,genomesize-11814070],\n",
    "     index=['vqc', 'iqc', 'sqc','mqc','vdigi','idigi','sdigi','mdigi','vpart','ipart','spart','mpart'])}\n",
    "df = pd.DataFrame(d,columns = ['gf','n50','reverse misassembly'])\n",
    "df\n"
   ]
  },
  {
   "cell_type": "code",
   "execution_count": 24,
   "metadata": {
    "collapsed": false,
    "scrolled": true
   },
   "outputs": [
    {
     "data": {
      "image/png": "[encoded data removed]",
      "text/plain": [
       "<matplotlib.figure.Figure at 0x1107600d0>"
      ]
     },
     "metadata": {},
     "output_type": "display_data"
    }
   ],
   "source": [
    "from pandas.tools.plotting import parallel_coordinates\n",
    "from pandas import read_csv\n",
    "plt.figure()\n",
    "parallel_coordinates(df,'n50')\n",
    "plt.savefig('pc.pdf')"
   ]
  },
  {
   "cell_type": "code",
   "execution_count": null,
   "metadata": {
    "collapsed": true,
    "scrolled": true
   },
   "outputs": [],
   "source": []
  }
 ],
 "metadata": {
  "kernelspec": {
   "display_name": "Python 2",
   "language": "python",
   "name": "python2"
  },
  "language_info": {
   "codemirror_mode": {
    "name": "ipython",
    "version": 2
   },
   "file_extension": ".py",
   "mimetype": "text/x-python",
   "name": "python",
   "nbconvert_exporter": "python",
   "pygments_lexer": "ipython2",
   "version": "2.7.10"
  }
 },
 "nbformat": 4,
 "nbformat_minor": 0
}
