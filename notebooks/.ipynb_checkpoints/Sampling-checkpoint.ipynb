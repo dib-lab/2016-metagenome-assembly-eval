{
 "cells": [
  {
   "cell_type": "code",
   "execution_count": 264,
   "metadata": {
    "collapsed": false
   },
   "outputs": [],
   "source": [
    "import matplotlib\n",
    "import numpy as np\n",
    "import matplotlib.pyplot as plt\n",
    "import matplotlib.lines as mlines\n",
    "from matplotlib.pyplot import *"
   ]
  },
  {
   "cell_type": "code",
   "execution_count": 265,
   "metadata": {
    "collapsed": true,
    "scrolled": true
   },
   "outputs": [],
   "source": [
    "#x =[0, 5,12.5,25, 50, 75, 100]\n",
    "x =[0,25, 50, 75, 100]"
   ]
  },
  {
   "cell_type": "code",
   "execution_count": 266,
   "metadata": {
    "collapsed": false
   },
   "outputs": [],
   "source": [
    "#vqc_genome_fraction = [0,23.51,46.91,63.529,70.092,71.305,72.949]\n",
    "#iqc_genome_fraction = [0,26.82,57.07,76.980,84.664,86.902,90.969]\n",
    "#sqc_genome_fraction = [0,31.50,62.47,80.057,86.001,87.543,90.424]\n",
    "#mqc_genome_fraction = [0,25.1,55.66,76.192,83.874,86.001,90.358]\n",
    "\n",
    "\n",
    "#vqc_genome_fraction = [0,63.529,70.092,71.305,72.949]\n",
    "iqc_genome_fraction = [0,76.980,84.664,86.902,90.969]\n",
    "sqc_genome_fraction = [0,80.057,86.001,87.543,90.424]\n",
    "mqc_genome_fraction = [0,76.192,83.874,86.001,90.358]\n",
    "\n",
    "\n",
    "\n",
    "iqc_duplication_ratio =[0,63.43,13.59,5.14,1]\n",
    "sqc_duplication_ratio =[0,47.22,7.81,3.59,1]\n",
    "mqc_duplication_ratio =[0,58.23,10.6,3.51,1]\n",
    "\n",
    "\n",
    "\n"
   ]
  },
  {
   "cell_type": "code",
   "execution_count": 267,
   "metadata": {
    "collapsed": false
   },
   "outputs": [
    {
     "data": {
      "text/plain": [
       "<matplotlib.legend.Legend at 0x10edf3290>"
      ]
     },
     "execution_count": 267,
     "metadata": {},
     "output_type": "execute_result"
    }
   ],
   "source": [
    "iqc_gf= plt.plot(x,iqc_genome_fraction,color='#FFA500', linestyle='solid', linewidth=3, label ='IQC Genome Fraction', marker =\"p\")\n",
    "plt.legend(iqc_gf, \"IQC Genome Fraction\", 'best')"
   ]
  },
  {
   "cell_type": "code",
   "execution_count": 268,
   "metadata": {
    "collapsed": false
   },
   "outputs": [
    {
     "data": {
      "text/plain": [
       "<matplotlib.legend.Legend at 0x10efcde50>"
      ]
     },
     "execution_count": 268,
     "metadata": {},
     "output_type": "execute_result"
    }
   ],
   "source": [
    "sqc_gf= plt.plot(x,sqc_genome_fraction,color='g', linestyle='solid', linewidth=3, label ='SQC Genome Fraction', marker=\"p\")\n",
    "plt.legend(sqc_gf, \"SQC Genome Fraction\", 'best')"
   ]
  },
  {
   "cell_type": "code",
   "execution_count": 269,
   "metadata": {
    "collapsed": false
   },
   "outputs": [
    {
     "data": {
      "text/plain": [
       "<matplotlib.legend.Legend at 0x10efe42d0>"
      ]
     },
     "execution_count": 269,
     "metadata": {},
     "output_type": "execute_result"
    }
   ],
   "source": [
    "mqc_gf= plt.plot(x,mqc_genome_fraction,color='#3F3F3F', linestyle='solid', linewidth=3, label ='MQC Genome Fraction', marker=\"p\")\n",
    "plt.legend(mqc_gf, \"MQC Genome Fraction\", 'best')"
   ]
  },
  {
   "cell_type": "code",
   "execution_count": 270,
   "metadata": {
    "collapsed": false
   },
   "outputs": [
    {
     "data": {
      "text/plain": [
       "<matplotlib.legend.Legend at 0x10efed590>"
      ]
     },
     "execution_count": 270,
     "metadata": {},
     "output_type": "execute_result"
    }
   ],
   "source": [
    "iqc_dr= plt.plot(x,iqc_duplication_ratio,color='#FFA500', linestyle='solid', linewidth=3, label ='IQC Duplication Ratio', marker =\"^\")\n",
    "plt.legend(iqc_dr, \"IQC Duplication Ratio\", 'best')"
   ]
  },
  {
   "cell_type": "code",
   "execution_count": 271,
   "metadata": {
    "collapsed": false
   },
   "outputs": [
    {
     "data": {
      "text/plain": [
       "<matplotlib.legend.Legend at 0x10effba10>"
      ]
     },
     "execution_count": 271,
     "metadata": {},
     "output_type": "execute_result"
    }
   ],
   "source": [
    "sqc_dr= plt.plot(x,sqc_duplication_ratio,color='g', linestyle='solid', linewidth=3, label ='SQC Duplication Ratio', marker =\"^\")\n",
    "plt.legend(sqc_dr, \"SQC Duplication Ratio\", 'best')"
   ]
  },
  {
   "cell_type": "code",
   "execution_count": 272,
   "metadata": {
    "collapsed": false
   },
   "outputs": [
    {
     "data": {
      "text/plain": [
       "<matplotlib.legend.Legend at 0x10f005ad0>"
      ]
     },
     "execution_count": 272,
     "metadata": {},
     "output_type": "execute_result"
    }
   ],
   "source": [
    "mqc_dr= plt.plot(x,mqc_duplication_ratio,color='#3F3F3F', linestyle='solid', linewidth=3, label ='MQC Duplication Ratio', marker =\"^\")\n",
    "plt.legend(mqc_dr, \"MQC Duplication Ratio\", 'best')"
   ]
  },
  {
   "cell_type": "code",
   "execution_count": 273,
   "metadata": {
    "collapsed": false
   },
   "outputs": [],
   "source": [
    "plt.title('Assembly Quality using different Coverage')\n",
    "plt.xlabel('Percentage of Reads')\n",
    "plt.ylabel('Genome Fraction and Duplication Ratio %')\n",
    "#legend()\n",
    "plt.legend(loc='center right', bbox_to_anchor=(0.97, 0.27),\n",
    "          fancybox=True, shadow=True, ncol=2)\n",
    "plt.show()"
   ]
  },
  {
   "cell_type": "code",
   "execution_count": null,
   "metadata": {
    "collapsed": true,
    "scrolled": true
   },
   "outputs": [],
   "source": []
  },
  {
   "cell_type": "code",
   "execution_count": null,
   "metadata": {
    "collapsed": true
   },
   "outputs": [],
   "source": []
  },
  {
   "cell_type": "code",
   "execution_count": null,
   "metadata": {
    "collapsed": true
   },
   "outputs": [],
   "source": []
  }
 ],
 "metadata": {
  "kernelspec": {
   "display_name": "Python 2",
   "language": "python",
   "name": "python2"
  },
  "language_info": {
   "codemirror_mode": {
    "name": "ipython",
    "version": 2
   },
   "file_extension": ".py",
   "mimetype": "text/x-python",
   "name": "python",
   "nbconvert_exporter": "python",
   "pygments_lexer": "ipython2",
   "version": "2.7.10"
  }
 },
 "nbformat": 4,
 "nbformat_minor": 0
}
