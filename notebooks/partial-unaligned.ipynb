{
 "cells": [
  {
   "cell_type": "code",
   "execution_count": null,
   "metadata": {
    "collapsed": true
   },
   "outputs": [],
   "source": [
    "import screed\n",
    "import matplotlib\n",
    "import numpy as np\n",
    "import matplotlib.pyplot as plt\n",
    "import matplotlib.lines as mlines\n",
    "from matplotlib.pyplot import *\n",
    "from __future__ import print_function\n",
    "from collections import defaultdict"
   ]
  },
  {
   "cell_type": "code",
   "execution_count": null,
   "metadata": {
    "collapsed": false
   },
   "outputs": [],
   "source": [
    "def average_contigs(assembly):\n",
    "    d = {}\n",
    "    s = {}\n",
    "    n = 0 \n",
    "    l =0 \n",
    "    for record in screed.open(assembly):\n",
    "                n += 1\n",
    "                l += len(record.sequence) \n",
    "    return  n,l"
   ]
  },
  {
   "cell_type": "code",
   "execution_count": 91,
   "metadata": {
    "collapsed": false
   },
   "outputs": [],
   "source": [
    "def analayze_partial_alignment(assembly_file, partial_file): \n",
    "            contig_len={}\n",
    "            aligned_len={}\n",
    "            diff={}\n",
    "            x={}\n",
    "            i = 0 \n",
    "            for line in open(partial_file): \n",
    "                        l = line.rstrip().split(' ')\n",
    "                        contig_len[i]= float(l[0])\n",
    "                        aligned_len[i] =float(l[1])\n",
    "                        diff[i] =float(l[2])\n",
    "                        i += 1 \n",
    "            sum = 0\n",
    "            avg1 =0 \n",
    "            cl = len(contig_len)\n",
    "            print(\"Total no of partial aligned contigs is:\", cl)\n",
    "            for i in contig_len:\n",
    "                  sum += contig_len[i]\n",
    "\n",
    "            avg1 = float(sum)/ len(contig_len)\n",
    "            n,l = average_contigs(assembly_file)\n",
    "            avg2 = float(l)/n *100 \n",
    "\n",
    "            print(\"Average length of partial aligned contigs is:\", avg1)\n",
    "\n",
    "            counta = 0 \n",
    "            countb = 0\n",
    "            countd = 0\n",
    "            misassembly1 =0 \n",
    "            misassembly2 =0\n",
    "            misassembly3 = 0\n",
    "            for i in aligned_len: \n",
    "                    if (contig_len[i] - aligned_len[i] ) < float(contig_len[i])/16: \n",
    "                        counta +=1 \n",
    "                    if (contig_len[i] - aligned_len[i] ) < float(contig_len[i]) /8: \n",
    "                        countb +=1 \n",
    "                    if (contig_len[i] - aligned_len[i] ) < float(contig_len[i]) /4: \n",
    "                        countd +=1 \n",
    "                    if (contig_len[i] - aligned_len[i] ) >1000:\n",
    "                          misassembly1 +=1 \n",
    "                    if (contig_len[i] - aligned_len[i] ) >10000:\n",
    "                          misassembly2 +=1 \n",
    "                    if (contig_len[i] - aligned_len[i] ) >100000:\n",
    "                          misassembly3 +=1        \n",
    "            print (\"No. of partial aligned contigs with unaligned length less than 1/16 its length is:\", counta, \"~\",float(counta)/cl *100,\"%\")\n",
    "            print (\"No. of partial aligned contigs with unaligned length less than 1/8 of its length is:\", countb, \"~\",float(countb)/cl *100,\"%\")\n",
    "            print (\"No. of partial aligned contigs with unaligned length less than 1/4 of its length is:\", countb, \"~\",float(countd)/cl *100,\"%\")\n",
    "            print(\"No. of misassembled contigs with x = 1000 is\", misassembly1, \"~\", float(misassembly1)/n*100, \"%\")\n",
    "            print(\"No. of misassembled contigs with x = 10000 is \", misassembly2, \"~\", float(misassembly2)/n*100, \"%\")\n",
    "            print(\"No. of misassembled contigs with x = 100000 is \", misassembly3, \"~\", float(misassembly3)/n*100, \"%\")\n",
    "\n",
    "            t = 5\n",
    "            while t <31: \n",
    "                \n",
    "                    cutoff = float( t*avg2)/100\n",
    "                    countc = 0\n",
    "                    for i in aligned_len: \n",
    "                            if (contig_len[i] - aligned_len[i] )  < cutoff: \n",
    "                                  countc +=1      \n",
    "                    print (\"No. of partial aligned contigs with unaligned length less than\", t, \"% of average length of all aligned,unaligned, and partial aligned contigs:\", countc, \"~\",float(countc)/cl *100,\"%\")\n",
    "                    t += 5\n",
    "                    \n",
    "              "
   ]
  },
  {
   "cell_type": "code",
   "execution_count": 92,
   "metadata": {
    "collapsed": false
   },
   "outputs": [
    {
     "name": "stdout",
     "output_type": "stream",
     "text": [
      "Using Best Hit Analysis:\n",
      "==========================\n",
      " For IDBA partial alignments:\n",
      "==========================\n",
      "Total no of partial aligned contigs is: 3292\n",
      "Average length of partial aligned contigs is: 14154.1524909\n",
      "No. of partial aligned contigs with unaligned length less than 1/16 its length is: 1789 ~ 54.3438639125 %\n",
      "No. of partial aligned contigs with unaligned length less than 1/8 of its length is: 1979 ~ 60.1154313487 %\n",
      "No. of partial aligned contigs with unaligned length less than 1/4 of its length is: 1979 ~ 67.4665856622 %\n",
      "No. of misassembled contigs with x = 1000 is 942 ~ 3.43244425011 %\n",
      "No. of misassembled contigs with x = 10000 is  351 ~ 1.27896808045 %\n",
      "No. of misassembled contigs with x = 100000 is  56 ~ 0.20405188748 %\n",
      "No. of partial aligned contigs with unaligned length less than 5 % of average length of all aligned,unaligned, and partial aligned contigs: 3145 ~ 95.5346294046 %\n",
      "No. of partial aligned contigs with unaligned length less than 10 % of average length of all aligned,unaligned, and partial aligned contigs: 3204 ~ 97.3268529769 %\n",
      "No. of partial aligned contigs with unaligned length less than 15 % of average length of all aligned,unaligned, and partial aligned contigs: 3243 ~ 98.5115431349 %\n",
      "No. of partial aligned contigs with unaligned length less than 20 % of average length of all aligned,unaligned, and partial aligned contigs: 3260 ~ 99.0279465371 %\n",
      "No. of partial aligned contigs with unaligned length less than 25 % of average length of all aligned,unaligned, and partial aligned contigs: 3270 ~ 99.3317132442 %\n",
      "No. of partial aligned contigs with unaligned length less than 30 % of average length of all aligned,unaligned, and partial aligned contigs: 3277 ~ 99.5443499392 %\n",
      "==========================\n",
      " For SPAdes partial alignments:\n",
      "==========================\n",
      "Total no of partial aligned contigs is: 3647\n",
      "Average length of partial aligned contigs is: 17562.8423362\n",
      "No. of partial aligned contigs with unaligned length less than 1/16 its length is: 2080 ~ 57.0331779545 %\n",
      "No. of partial aligned contigs with unaligned length less than 1/8 of its length is: 2246 ~ 61.584864272 %\n",
      "No. of partial aligned contigs with unaligned length less than 1/4 of its length is: 2246 ~ 67.0688236907 %\n",
      "No. of misassembled contigs with x = 1000 is 1097 ~ 3.25480655115 %\n",
      "No. of misassembled contigs with x = 10000 is  499 ~ 1.48053643484 %\n",
      "No. of misassembled contigs with x = 100000 is  66 ~ 0.195822454308 %\n",
      "No. of partial aligned contigs with unaligned length less than 5 % of average length of all aligned,unaligned, and partial aligned contigs: 3379 ~ 92.6514943789 %\n",
      "No. of partial aligned contigs with unaligned length less than 10 % of average length of all aligned,unaligned, and partial aligned contigs: 3514 ~ 96.3531669866 %\n",
      "No. of partial aligned contigs with unaligned length less than 15 % of average length of all aligned,unaligned, and partial aligned contigs: 3572 ~ 97.943515218 %\n",
      "No. of partial aligned contigs with unaligned length less than 20 % of average length of all aligned,unaligned, and partial aligned contigs: 3595 ~ 98.5741705511 %\n",
      "No. of partial aligned contigs with unaligned length less than 25 % of average length of all aligned,unaligned, and partial aligned contigs: 3610 ~ 98.9854675075 %\n",
      "No. of partial aligned contigs with unaligned length less than 30 % of average length of all aligned,unaligned, and partial aligned contigs: 3621 ~ 99.2870852756 %\n",
      "==========================\n",
      " For MEGAHIT partial alignments:\n",
      "==========================\n",
      "Total no of partial aligned contigs is: 7889\n",
      "Average length of partial aligned contigs is: 4187.43072633\n",
      "No. of partial aligned contigs with unaligned length less than 1/16 its length is: 2780 ~ 35.2389402966 %\n",
      "No. of partial aligned contigs with unaligned length less than 1/8 of its length is: 4124 ~ 52.2753200659 %\n",
      "No. of partial aligned contigs with unaligned length less than 1/4 of its length is: 4124 ~ 71.3271644061 %\n",
      "No. of misassembled contigs with x = 1000 is 551 ~ 0.729830324384 %\n",
      "No. of misassembled contigs with x = 10000 is  251 ~ 0.332463541598 %\n",
      "No. of misassembled contigs with x = 100000 is  27 ~ 0.0357630104507 %\n",
      "No. of partial aligned contigs with unaligned length less than 5 % of average length of all aligned,unaligned, and partial aligned contigs: 7676 ~ 97.3000380276 %\n",
      "No. of partial aligned contigs with unaligned length less than 10 % of average length of all aligned,unaligned, and partial aligned contigs: 7760 ~ 98.3648117632 %\n",
      "No. of partial aligned contigs with unaligned length less than 15 % of average length of all aligned,unaligned, and partial aligned contigs: 7791 ~ 98.7577639752 %\n",
      "No. of partial aligned contigs with unaligned length less than 20 % of average length of all aligned,unaligned, and partial aligned contigs: 7815 ~ 99.0619850425 %\n",
      "No. of partial aligned contigs with unaligned length less than 25 % of average length of all aligned,unaligned, and partial aligned contigs: 7836 ~ 99.3281784764 %\n",
      "No. of partial aligned contigs with unaligned length less than 30 % of average length of all aligned,unaligned, and partial aligned contigs: 7849 ~ 99.4929648878 %\n"
     ]
    }
   ],
   "source": [
    "print(\"Using Best Hit Analysis:\")\n",
    "print(\"==========================\")\n",
    "print(\" For IDBA partial alignments:\")\n",
    "print(\"==========================\")\n",
    "analayze_partial_alignment('../idba-quality-assembly.fa', '../iqc.QC99BESTHIT.aligned.partial')\n",
    "print(\"==========================\")\n",
    "print(\" For SPAdes partial alignments:\")\n",
    "print(\"==========================\")\n",
    "analayze_partial_alignment('../spades-quality-assembly.fa', '../sqc.QC99BESTHIT.aligned.partial')\n",
    "print(\"==========================\")\n",
    "print(\" For MEGAHIT partial alignments:\")\n",
    "print(\"==========================\")\n",
    "analayze_partial_alignment('../megahit-quality-assembly.fa', '../mqc.QC99BESTHIT.aligned.partial')\n"
   ]
  },
  {
   "cell_type": "code",
   "execution_count": null,
   "metadata": {
    "collapsed": false
   },
   "outputs": [],
   "source": [
    "print(\"Using Ambigious Analysis:\")\n",
    "print(\"==========================\")\n",
    "print(\" For IDBA partial alignments:\")\n",
    "print(\"==========================\")\n",
    "analayze_partial_alignment('../idba-quality-assembly.fa', '../iqc.QC99Ambigious.aligned.partial')\n",
    "print(\"==========================\")\n",
    "print(\" For SPAdes partial alignments:\")\n",
    "print(\"==========================\")\n",
    "analayze_partial_alignment('../spades-quality-assembly.fa', '../sqc.QC99Ambigious.aligned.partial')\n",
    "print(\"==========================\")\n",
    "print(\" For MEGAHIT partial alignments:\")\n",
    "print(\"==========================\")\n",
    "analayze_partial_alignment('../megahit-quality-assembly.fa', '../mqc.QC99Ambigious.aligned.partial')\n"
   ]
  },
  {
   "cell_type": "code",
   "execution_count": null,
   "metadata": {
    "collapsed": true
   },
   "outputs": [],
   "source": []
  }
 ],
 "metadata": {
  "kernelspec": {
   "display_name": "Python 2",
   "language": "python",
   "name": "python2"
  },
  "language_info": {
   "codemirror_mode": {
    "name": "ipython",
    "version": 2
   },
   "file_extension": ".py",
   "mimetype": "text/x-python",
   "name": "python",
   "nbconvert_exporter": "python",
   "pygments_lexer": "ipython2",
   "version": "2.7.10"
  }
 },
 "nbformat": 4,
 "nbformat_minor": 0
}
