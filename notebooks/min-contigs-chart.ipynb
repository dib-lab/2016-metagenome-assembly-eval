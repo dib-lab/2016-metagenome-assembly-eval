{
 "cells": [
  {
   "cell_type": "code",
   "execution_count": 48,
   "metadata": {
    "collapsed": false
   },
   "outputs": [],
   "source": [
    "#%pylab inline"
   ]
  },
  {
   "cell_type": "code",
   "execution_count": 49,
   "metadata": {
    "collapsed": true
   },
   "outputs": [],
   "source": [
    "import matplotlib\n",
    "import numpy as np\n",
    "import matplotlib.pyplot as plt\n",
    "import matplotlib.lines as mlines\n",
    "from matplotlib.pyplot import *\n",
    "from __future__ import print_function\n",
    "from collections import defaultdict"
   ]
  },
  {
   "cell_type": "code",
   "execution_count": 71,
   "metadata": {
    "collapsed": false
   },
   "outputs": [],
   "source": [
    "import numpy as np\n",
    "import matplotlib.pyplot as plt\n",
    "\n",
    "fig = plt.figure()\n",
    "ax = fig.add_subplot(111)\n",
    "## the data\n",
    "N =4\n",
    "\n",
    "iqc_gc_0 = 27444\n",
    "sqc_gc_0 =  33704\n",
    "mqc_gc_0 = 75497 \n",
    "\n",
    "\n",
    "\n",
    "iqc_gc_500= 21830 \n",
    "sqc_gc_500 = 22808 \n",
    "mqc_gc_500 = 28920    \n",
    "\n",
    "\n",
    "iqc_gc_2000 = 11174\n",
    "sqc_gc_2000 = 11178\n",
    "mqc_gc_2000 = 12619\n",
    "\n",
    "iqc_gc_3000 = 8580\n",
    "sqc_gc_3000 = 8748\n",
    "mqc_gc_3000 = 9327\n",
    "\n",
    "mc_iqc= [iqc_gc_0, iqc_gc_500, iqc_gc_2000, iqc_gc_3000]\n",
    "mc_sqc= [sqc_gc_0, sqc_gc_500, sqc_gc_2000, sqc_gc_3000]\n",
    "mc_mqc= [mqc_gc_0, mqc_gc_500, mqc_gc_2000, mqc_gc_3000]\n",
    "\n",
    "\n",
    "width = 0.20\n",
    "ind = np.arange(N)                # the x locations for the groups\n",
    "\n",
    "# axes and labels\n",
    "ax.set_xlim(-width,len(ind)+width)\n",
    "ax.set_ylim(0,80000)\n",
    "ax.set_ylabel('Number of Contigs')\n",
    "ax.set_xlabel('Minimum Contig Length')\n",
    "\n",
    "## necessary variables\n",
    "                   # the width of the bars\n",
    "\n",
    "## the bars\n",
    "rects1 = ax.bar(ind, mc_iqc, width, color='#A9A9A9')\n",
    "rects2 = ax.bar(ind+width, mc_sqc, width,color='#FFA500')\n",
    "rects3 = ax.bar(ind+width+width , mc_mqc, width,color='g')\n",
    "\n",
    "ax.set_title('Number of  contigs using different minimum contigs cutoffs')\n",
    "xTickMarks = ['0','500','2000','3000']\n",
    "ax.set_xticks(ind+width+width)\n",
    "xtickNames = ax.set_xticklabels(xTickMarks)\n",
    "plt.setp(xtickNames, rotation=45, fontsize=10)\n",
    "\n",
    "## add a legend\n",
    "ax.legend( (rects1[0], rects2[0], rects3[0]), ('IDBA', 'SPAdes','Megahit') )\n",
    "\n",
    "plt.show()"
   ]
  },
  {
   "cell_type": "code",
   "execution_count": null,
   "metadata": {
    "collapsed": true
   },
   "outputs": [],
   "source": []
  },
  {
   "cell_type": "code",
   "execution_count": null,
   "metadata": {
    "collapsed": true
   },
   "outputs": [],
   "source": []
  },
  {
   "cell_type": "code",
   "execution_count": null,
   "metadata": {
    "collapsed": true
   },
   "outputs": [],
   "source": []
  }
 ],
 "metadata": {
  "kernelspec": {
   "display_name": "Python 2",
   "language": "python",
   "name": "python2"
  },
  "language_info": {
   "codemirror_mode": {
    "name": "ipython",
    "version": 2
   },
   "file_extension": ".py",
   "mimetype": "text/x-python",
   "name": "python",
   "nbconvert_exporter": "python",
   "pygments_lexer": "ipython2",
   "version": "2.7.10"
  }
 },
 "nbformat": 4,
 "nbformat_minor": 0
}
