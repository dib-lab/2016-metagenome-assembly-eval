{
 "cells": [
  {
   "cell_type": "code",
   "execution_count": 22,
   "metadata": {
    "collapsed": true
   },
   "outputs": [],
   "source": [
    "import matplotlib\n",
    "import numpy as np\n",
    "import matplotlib.pyplot as plt\n",
    "import matplotlib.lines as mlines\n",
    "from matplotlib.pyplot import *"
   ]
  },
  {
   "cell_type": "code",
   "execution_count": 23,
   "metadata": {
    "collapsed": true
   },
   "outputs": [],
   "source": [
    "contigs =[0, 250, 500, 750, 1000, 2000]"
   ]
  },
  {
   "cell_type": "code",
   "execution_count": 24,
   "metadata": {
    "collapsed": false
   },
   "outputs": [],
   "source": [
    "vqc_total_length =[164397578,163112466,159537740,157220913,155353536,150138485]\n",
    "iqc_total_length =[200962385,200939945,198818587,196690925,194798561,187611489] \n",
    "sqc_total_length =[200742793,200278128,197107341,194752614,192502691,185123456] \n",
    "mqc_total_length =[211681265,207364425,198360585,194746275,191920652,181756001]\n",
    "\n",
    "vdigi_total_length =[199555556,198846827,195279331,192038284,188890498,177431362]\n",
    "idigi_total_length =[200083762,200077044,198761297,197216607,195779746,189654321] \n",
    "sdigi_total_length =[199687122,199237470,196464077,194268249,192161263,184671409] \n",
    "mdigi_total_length =[200453745,199751604,196439431,193426523,190351416,178977333]\n",
    "\n",
    "vpart_total_length =[200493635,199705369,195705327,191771131,187804091,17191595]\n",
    "ipart_total_length =[198313218,198308366,196691548,194572523,192478143,183804257] \n",
    "spart_total_length =[198001012,197620842,194563093,191721976,188937831,178783394] \n",
    "mpart_total_length =[198456118,197523063,193904476,190409162,186806671,173718716]\n"
   ]
  },
  {
   "cell_type": "code",
   "execution_count": 25,
   "metadata": {
    "collapsed": false
   },
   "outputs": [
    {
     "data": {
      "text/plain": [
       "<matplotlib.legend.Legend at 0x1083fa110>"
      ]
     },
     "execution_count": 25,
     "metadata": {},
     "output_type": "execute_result"
    }
   ],
   "source": [
    "tl_vqc= plt.plot(contigs, vqc_total_length,color='r', linestyle='solid', linewidth=3, label ='Velvet QC', marker =\"*\")\n",
    "plt.legend(vqc_total_length, \"Velvet QC\", 'best')\n",
    "\n",
    "tl_iqc= plt.plot(contigs, iqc_total_length,color='b', linestyle='solid', linewidth=3, label ='IDBA QC', marker =\"+\")\n",
    "plt.legend(iqc_total_length, \"IDBA QC\", 'best')\n",
    "\n",
    "tl_sqc= plt.plot(contigs, sqc_total_length,color='#FFA500', linestyle='solid', linewidth=3, label ='SPAdes QC', marker =\"x\")\n",
    "plt.legend(sqc_total_length, \"SPAdes QC\", 'best')\n",
    "\n",
    "tl_mqc= plt.plot(contigs, mqc_total_length,color='g', linestyle='solid', linewidth=3, label ='Megahit QC', marker =\"o\")\n",
    "plt.legend(mqc_total_length, \"Megahit QC\", 'best')"
   ]
  },
  {
   "cell_type": "code",
   "execution_count": 26,
   "metadata": {
    "collapsed": false
   },
   "outputs": [
    {
     "data": {
      "text/plain": [
       "<matplotlib.legend.Legend at 0x108413bd0>"
      ]
     },
     "execution_count": 26,
     "metadata": {},
     "output_type": "execute_result"
    }
   ],
   "source": [
    "tl_vdigi= plt.plot(contigs, vdigi_total_length,color='r', linestyle='solid', linewidth=3, label ='Velvet Diginorm', marker =\"*\")\n",
    "plt.legend(vdigi_total_length, \"Velvet Diginorm\", 'best')\n",
    "\n",
    "tl_idigi= plt.plot(contigs, idigi_total_length,color='b', linestyle='solid', linewidth=3, label ='IDBA Diginorm', marker =\"+\")\n",
    "plt.legend(idigi_total_length, \"IDBA Diginorm\", 'best')\n",
    "\n",
    "tl_sdigi= plt.plot(contigs, sdigi_total_length,color='#FFA500', linestyle='solid', linewidth=3, label ='SPAdes Diginorm', marker =\"x\")\n",
    "plt.legend(sdigi_total_length, \"SPAdes Diginorm\", 'best')\n",
    "\n",
    "tl_mdigi= plt.plot(contigs, mdigi_total_length,color='g', linestyle='solid', linewidth=3, label ='Megahit Diginorm', marker =\"o\")\n",
    "plt.legend(mdigi_total_length, \"Megahit Diginorm\", 'best')"
   ]
  },
  {
   "cell_type": "code",
   "execution_count": 27,
   "metadata": {
    "collapsed": false
   },
   "outputs": [
    {
     "data": {
      "text/plain": [
       "<matplotlib.legend.Legend at 0x108434250>"
      ]
     },
     "execution_count": 27,
     "metadata": {},
     "output_type": "execute_result"
    }
   ],
   "source": [
    "tl_vpart= plt.plot(contigs, vpart_total_length,color='r', linestyle='solid', linewidth=3, label ='Velvet Partition', marker =\"*\")\n",
    "plt.legend(vpart_total_length, \"Velvet Partition\", 'best')\n",
    "\n",
    "tl_ipart= plt.plot(contigs, ipart_total_length,color='b', linestyle='solid', linewidth=3, label ='IDBA Partition', marker =\"+\")\n",
    "plt.legend(ipart_total_length, \"IDBA Partition\", 'best')\n",
    "\n",
    "tl_spart= plt.plot(contigs, spart_total_length,color='#FFA500', linestyle='solid', linewidth=3, label ='SPAdes Partition', marker =\"x\")\n",
    "plt.legend(spart_total_length, \"SPAdes Partition\", 'best')\n",
    "\n",
    "tl_mpart= plt.plot(contigs, mpart_total_length,color='g', linestyle='solid', linewidth=3, label ='Megahit Partition', marker =\"o\")\n",
    "plt.legend(mpart_total_length, \"Megahit Partition\", 'best')"
   ]
  },
  {
   "cell_type": "code",
   "execution_count": 28,
   "metadata": {
    "collapsed": false
   },
   "outputs": [],
   "source": [
    "plt.title('Assembly Total Length using Different Minimum Contigs Length')\n",
    "plt.xlabel('Minimum Contig')\n",
    "plt.ylabel('Assembly Total Length')\n",
    "plt.legend(loc='center right', bbox_to_anchor=(0.85, 0.27),\n",
    "          fancybox=True, shadow=True, ncol=2)\n",
    "plt.show()"
   ]
  },
  {
   "cell_type": "code",
   "execution_count": null,
   "metadata": {
    "collapsed": true
   },
   "outputs": [],
   "source": []
  },
  {
   "cell_type": "code",
   "execution_count": null,
   "metadata": {
    "collapsed": false
   },
   "outputs": [],
   "source": []
  },
  {
   "cell_type": "code",
   "execution_count": null,
   "metadata": {
    "collapsed": true
   },
   "outputs": [],
   "source": []
  }
 ],
 "metadata": {
  "kernelspec": {
   "display_name": "Python 2",
   "language": "python",
   "name": "python2"
  },
  "language_info": {
   "codemirror_mode": {
    "name": "ipython",
    "version": 2
   },
   "file_extension": ".py",
   "mimetype": "text/x-python",
   "name": "python",
   "nbconvert_exporter": "python",
   "pygments_lexer": "ipython2",
   "version": "2.7.10"
  }
 },
 "nbformat": 4,
 "nbformat_minor": 0
}
