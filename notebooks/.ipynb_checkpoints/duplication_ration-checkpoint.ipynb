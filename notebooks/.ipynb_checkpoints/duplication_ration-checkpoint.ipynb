{
 "cells": [
  {
   "cell_type": "code",
   "execution_count": null,
   "metadata": {
    "collapsed": false
   },
   "outputs": [],
   "source": [
    "#%pylab inline"
   ]
  },
  {
   "cell_type": "code",
   "execution_count": null,
   "metadata": {
    "collapsed": true
   },
   "outputs": [],
   "source": [
    "import matplotlib\n",
    "import numpy as np\n",
    "import matplotlib.pyplot as plt\n",
    "import matplotlib.lines as mlines\n",
    "from matplotlib.pyplot import *\n",
    "from __future__ import print_function\n",
    "from collections import defaultdict"
   ]
  },
  {
   "cell_type": "code",
   "execution_count": null,
   "metadata": {
    "collapsed": false
   },
   "outputs": [],
   "source": [
    "refsize=205603715\n",
    "cov={}\n",
    "count={}\n",
    "hit=[0]*200000\n",
    "count=[0]*200000\n",
    "i =0 \n",
    "for line in open('iqc.align.dist.99'):\n",
    "            x = line.rstrip().split(' ')\n",
    "            hit[i]=float(x[0])\n",
    "            count[i]=float(x[1]) \n",
    "print ('done')"
   ]
  },
  {
   "cell_type": "code",
   "execution_count": null,
   "metadata": {
    "collapsed": false
   },
   "outputs": [],
   "source": [
    "mu=np.mean(hit)\n",
    "sigma=np.std(hit)\n",
    "n, bins, patches = plt.hist(hit, 50, normed=1, facecolor='green', alpha=0.75)\n",
    "\n",
    "# add a 'best fit' line\n",
    "y = mlab.normpdf( bins, mu, sigma)\n",
    "l = plt.plot(bins, y, 'r--', linewidth=1)"
   ]
  },
  {
   "cell_type": "code",
   "execution_count": null,
   "metadata": {
    "collapsed": false
   },
   "outputs": [],
   "source": [
    "dr= plt.plot(hit,count,color='b', linestyle='solid', linewidth=4, label ='Duplication Ratio')\n",
    "\n",
    "plt.legend(dr, \"Duplication Ratio\", 'best')\n",
    "#plt.axis(xmax=50.0)\n",
    "#plt.ylim(0, 1.05)\n",
    "\n",
    "plt.title('Duplication Ratio')\n",
    "plt.xlabel('Hits')\n",
    "plt.ylabel('Count of bases with that hit')\n",
    "legend()\n",
    "plt.show()\n",
    "print('done')"
   ]
  },
  {
   "cell_type": "code",
   "execution_count": null,
   "metadata": {
    "collapsed": true
   },
   "outputs": [],
   "source": []
  },
  {
   "cell_type": "code",
   "execution_count": null,
   "metadata": {
    "collapsed": true
   },
   "outputs": [],
   "source": []
  }
 ],
 "metadata": {
  "kernelspec": {
   "display_name": "Python 2",
   "language": "python",
   "name": "python2"
  },
  "language_info": {
   "codemirror_mode": {
    "name": "ipython",
    "version": 2
   },
   "file_extension": ".py",
   "mimetype": "text/x-python",
   "name": "python",
   "nbconvert_exporter": "python",
   "pygments_lexer": "ipython2",
   "version": "2.7.10"
  }
 },
 "nbformat": 4,
 "nbformat_minor": 0
}
