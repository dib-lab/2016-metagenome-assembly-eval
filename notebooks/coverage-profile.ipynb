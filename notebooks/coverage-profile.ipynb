{
 "cells": [
  {
   "cell_type": "code",
   "execution_count": 1,
   "metadata": {},
   "outputs": [],
   "source": [
    "#%pylab inline"
   ]
  },
  {
   "cell_type": "code",
   "execution_count": 2,
   "metadata": {
    "scrolled": true
   },
   "outputs": [
    {
     "name": "stderr",
     "output_type": "stream",
     "text": [
      "/Users/t/dev/jup2/lib/python2.7/site-packages/matplotlib/font_manager.py:273: UserWarning: Matplotlib is building the font cache using fc-list. This may take a moment.\n",
      "  warnings.warn('Matplotlib is building the font cache using fc-list. This may take a moment.')\n"
     ]
    }
   ],
   "source": [
    "%matplotlib inline\n",
    "import matplotlib\n",
    "import numpy as np\n",
    "import matplotlib.pyplot as plt\n",
    "import matplotlib.lines as mlines\n",
    "from matplotlib.pyplot import *\n",
    "from __future__ import print_function\n",
    "from collections import defaultdict\n",
    "import numpy as np\n",
    "from pylab import *"
   ]
  },
  {
   "cell_type": "code",
   "execution_count": 3,
   "metadata": {
    "scrolled": true
   },
   "outputs": [
    {
     "name": "stdout",
     "output_type": "stream",
     "text": [
      "203935050.0\n"
     ]
    },
    {
     "data": {
      "image/png": "[encoded data removed]",
      "text/plain": [
       "<matplotlib.figure.Figure at 0x103d80290>"
      ]
     },
     "metadata": {},
     "output_type": "display_data"
    },
    {
     "name": "stdout",
     "output_type": "stream",
     "text": [
      "done\n"
     ]
    }
   ],
   "source": [
    "refsize=205603715\n",
    "cov={}\n",
    "count={}\n",
    "cov=[0]*1501\n",
    "count=[0]*1501\n",
    "count0 =0\n",
    "i =0 \n",
    "summ =0 \n",
    "for line in open(\"../pipeline/SRR606249.qc.coverage\"):\n",
    "    if line.startswith('qc-ref.sam'):\n",
    "        break\n",
    "    x = line.rstrip().split(' ')\n",
    "    cov[i]=float(x[0])\n",
    "    count[i]=float(x[1])  \n",
    "    summ += count[i]\n",
    "    i +=1\n",
    "    if i >1500:\n",
    "        break\n",
    "\n",
    "\n",
    "for i in range(0,1500):\n",
    "        count[i] =(count[i]/summ)\n",
    "print(summ)\n",
    "\n",
    "\n",
    "#Y= np.loadtxt(\"../SRR606249.qc.coverage\")\n",
    "\n",
    "\n",
    "Y =count \n",
    "X =cov \n",
    "\n",
    "# Compute the CDF\n",
    "CY = np.cumsum(Y)\n",
    "\n",
    "# Plot both\n",
    "#plot(X,Y,color='green', linestyle='solid', linewidth=4, label ='Mapping Coverage')\n",
    "#plot(X,CY,'r--')\n",
    "plt.plot(X, CY,color='#4863A0', linestyle='solid', linewidth=4, label ='Mapping Coverage')\n",
    "plt.title('Coverage profile for the reference genome')\n",
    "plt.axis(xmax=200.0)\n",
    "plt.axis(ymax=1.0)\n",
    "plt.xlabel('Coverage')\n",
    "#plt.ylabel('Cummulative bases count')\n",
    "plt.show()\n",
    "print('done')"
   ]
  },
  {
   "cell_type": "code",
   "execution_count": null,
   "metadata": {
    "collapsed": true
   },
   "outputs": [],
   "source": []
  },
  {
   "cell_type": "code",
   "execution_count": null,
   "metadata": {
    "collapsed": true
   },
   "outputs": [],
   "source": []
  }
 ],
 "metadata": {
  "kernelspec": {
   "display_name": "Python 2",
   "language": "python",
   "name": "python2"
  },
  "language_info": {
   "codemirror_mode": {
    "name": "ipython",
    "version": 2
   },
   "file_extension": ".py",
   "mimetype": "text/x-python",
   "name": "python",
   "nbconvert_exporter": "python",
   "pygments_lexer": "ipython2",
   "version": "2.7.10"
  }
 },
 "nbformat": 4,
 "nbformat_minor": 1
}
