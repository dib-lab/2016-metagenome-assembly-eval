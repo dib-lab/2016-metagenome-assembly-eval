{
 "cells": [
  {
   "cell_type": "markdown",
   "metadata": {},
   "source": [
    "# Duplication Ratio For Alignments "
   ]
  },
  {
   "cell_type": "code",
   "execution_count": 159,
   "metadata": {
    "collapsed": false
   },
   "outputs": [],
   "source": [
    "import pandas as pd\n",
    "import matplotlib.pyplot as plt\n",
    "df = pd.DataFrame({'iqc': [17555995.0, 180832502.0, 2473598.0, 72571.0,20439.0,7280.0, 0,0,0],\n",
    " 'sqc': [17733283.0,180335072.0,2574297.0,78090.0,8122.0,6851.0,3158.0,1030.0,2890.0] ,\n",
    " 'mqc': [18744744.0,190238488.0,2545775.0,106735.0,41558.0,2830.0,1135.0,0,0],\n",
    " 'hits':[0,1,2,3,4,5,6,7,8]\n",
    " })\n",
    "df = df.set_index(['hits'])\n",
    "fig = plt.figure()\n",
    "ax = fig.add_subplot(111)\n",
    "#ax2 = ax.twinx()\n",
    "#ax3 = ax.twinx()\n",
    "\n",
    "df['iqc'].plot(kind='bar', color='g', ax=ax, position=0, width=0.25)\n",
    "df['sqc'].plot(kind='bar', color='#FFA500', ax=ax, position=1, width=0.25)\n",
    "df['mqc'].plot(kind='bar', color='#999999', ax=ax, position=2, width=0.25)\n",
    "\n",
    "ax.set_ylabel = ('IQC')\n",
    "ax.set_ylabel = ('SQC')\n",
    "ax.set_ylabel = ('MQC')\n",
    "\n",
    "#----\n",
    "plt.title('Duplication Ratio using  QC for different Coverage')\n",
    " \n",
    "#legend()\n",
    "plt.legend(loc='upper left', bbox_to_anchor=(0.40, 0.95),\n",
    "          fancybox=True, shadow=True, ncol=3)\n",
    "plt.show()"
   ]
  },
  {
   "cell_type": "markdown",
   "metadata": {
    "collapsed": true
   },
   "source": [
    "# Duplication Ratio For Coverage "
   ]
  },
  {
   "cell_type": "code",
   "execution_count": 2,
   "metadata": {
    "collapsed": false
   },
   "outputs": [],
   "source": [
    "import pandas as pd\n",
    "import matplotlib.pyplot as plt\n",
    "df = pd.DataFrame({'iqc': [21454031.0,182204071.0,1917472.0,27421.0,669.0,51.0,0,0,0],\n",
    " 'sqc': [21600412.0,182186170.0,1801834.0,11305.0,2638.0,512.0,280.0,372.0,192.0] ,\n",
    " 'mqc': [19314894.0,176902771.0,9227000.0,155207.0,3734.0, 109.0,0,0,0],\n",
    " 'hits':[0,1,2,3,4,5,6,7,8]\n",
    " })\n",
    "df = df.set_index(['hits'])\n",
    "fig = plt.figure()\n",
    "ax = fig.add_subplot(111)\n",
    "#ax2 = ax.twinx()\n",
    "#ax3 = ax.twinx()\n",
    "\n",
    "df['iqc'].plot(kind='bar', color='g', ax=ax, position=0, width=0.25)\n",
    "df['sqc'].plot(kind='bar', color='#FFA500', ax=ax, position=1, width=0.25)\n",
    "df['mqc'].plot(kind='bar', color='#999999', ax=ax, position=2, width=0.25)\n",
    "\n",
    "ax.set_ylabel = ('IQC')\n",
    "ax.set_ylabel = ('SQC')\n",
    "ax.set_ylabel = ('MQC')\n",
    "\n",
    "#----\n",
    "plt.title('Duplication Ratio For  Coverage')\n",
    " \n",
    "#legend()\n",
    "plt.legend(loc='upper left', bbox_to_anchor=(0.40, 0.95),\n",
    "          fancybox=True, shadow=True, ncol=3)\n",
    "plt.show()"
   ]
  },
  {
   "cell_type": "code",
   "execution_count": null,
   "metadata": {
    "collapsed": true
   },
   "outputs": [],
   "source": [
    " "
   ]
  },
  {
   "cell_type": "code",
   "execution_count": null,
   "metadata": {
    "collapsed": true
   },
   "outputs": [],
   "source": []
  }
 ],
 "metadata": {
  "kernelspec": {
   "display_name": "Python 2",
   "language": "python",
   "name": "python2"
  },
  "language_info": {
   "codemirror_mode": {
    "name": "ipython",
    "version": 2
   },
   "file_extension": ".py",
   "mimetype": "text/x-python",
   "name": "python",
   "nbconvert_exporter": "python",
   "pygments_lexer": "ipython2",
   "version": "2.7.10"
  }
 },
 "nbformat": 4,
 "nbformat_minor": 0
}
