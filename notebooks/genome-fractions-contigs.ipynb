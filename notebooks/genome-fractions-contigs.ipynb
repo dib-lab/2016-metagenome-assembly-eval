{
 "cells": [
  {
   "cell_type": "code",
   "execution_count": 22,
   "metadata": {
    "collapsed": true
   },
   "outputs": [],
   "source": [
    "import matplotlib\n",
    "import numpy as np\n",
    "import matplotlib.pyplot as plt\n",
    "import matplotlib.lines as mlines\n",
    "from matplotlib.pyplot import *"
   ]
  },
  {
   "cell_type": "code",
   "execution_count": 23,
   "metadata": {
    "collapsed": true
   },
   "outputs": [],
   "source": [
    "contigs =[0, 250, 750, 1000, 2000]"
   ]
  },
  {
   "cell_type": "code",
   "execution_count": 24,
   "metadata": {
    "collapsed": false
   },
   "outputs": [],
   "source": [
    " iqc_genome_fraction =[89.56, 89.56,87.98, 87.18,84.09] \n",
    "sqc_genome_fraction =[89.49,89.38,87.40,86.44,83.15] \n",
    "mqc_genome_fraction =[90.60,90.26,87.50,86.35,81.8]\n",
    "\n",
    " "
   ]
  },
  {
   "cell_type": "code",
   "execution_count": 25,
   "metadata": {
    "collapsed": false
   },
   "outputs": [
    {
     "data": {
      "text/plain": [
       "<matplotlib.legend.Legend at 0x10ac50e90>"
      ]
     },
     "execution_count": 25,
     "metadata": {},
     "output_type": "execute_result"
    }
   ],
   "source": [
    "gf_iqc= plt.plot(contigs, iqc_genome_fraction ,color='g', linestyle='solid', linewidth=3, label ='IDBA QC', marker =\"^\")\n",
    "plt.legend(iqc_genome_fraction, \"IDBA QC\", 'best')\n",
    "\n",
    "gf_sqc= plt.plot(contigs, sqc_genome_fraction ,color='#FFA500', linestyle='solid', linewidth=3, label ='SPAdes QC', marker =\"^\")\n",
    "plt.legend(sqc_genome_fraction, \"SPAdes QC\", 'best')\n",
    "\n",
    "gf_mqc= plt.plot(contigs, mqc_genome_fraction ,color='#999999', linestyle='solid', linewidth=3, label ='Megahit QC', marker =\"^\")\n",
    "plt.legend(mqc_genome_fraction, \"Megahit QC\", 'best')"
   ]
  },
  {
   "cell_type": "code",
   "execution_count": 26,
   "metadata": {
    "collapsed": false
   },
   "outputs": [],
   "source": [
    "plt.title('Genome Fraction using Different Minimum Contigs Length')\n",
    "plt.xlabel('Minimum Contig')\n",
    "plt.ylabel('Genome Fraction %')\n",
    "plt.axis(ymax=100)\n",
    "plt.legend(loc='center right', bbox_to_anchor=(0.97, 0.47),\n",
    "          fancybox=True, shadow=True, ncol=1)\n",
    "plt.show()"
   ]
  },
  {
   "cell_type": "code",
   "execution_count": null,
   "metadata": {
    "collapsed": true
   },
   "outputs": [],
   "source": []
  },
  {
   "cell_type": "code",
   "execution_count": null,
   "metadata": {
    "collapsed": false
   },
   "outputs": [],
   "source": []
  },
  {
   "cell_type": "code",
   "execution_count": null,
   "metadata": {
    "collapsed": true
   },
   "outputs": [],
   "source": []
  },
  {
   "cell_type": "code",
   "execution_count": null,
   "metadata": {
    "collapsed": true
   },
   "outputs": [],
   "source": []
  },
  {
   "cell_type": "code",
   "execution_count": null,
   "metadata": {
    "collapsed": true
   },
   "outputs": [],
   "source": []
  },
  {
   "cell_type": "code",
   "execution_count": null,
   "metadata": {
    "collapsed": true
   },
   "outputs": [],
   "source": []
  }
 ],
 "metadata": {
  "kernelspec": {
   "display_name": "Python 2",
   "language": "python",
   "name": "python2"
  },
  "language_info": {
   "codemirror_mode": {
    "name": "ipython",
    "version": 2
   },
   "file_extension": ".py",
   "mimetype": "text/x-python",
   "name": "python",
   "nbconvert_exporter": "python",
   "pygments_lexer": "ipython2",
   "version": "2.7.10"
  }
 },
 "nbformat": 4,
 "nbformat_minor": 0
}
