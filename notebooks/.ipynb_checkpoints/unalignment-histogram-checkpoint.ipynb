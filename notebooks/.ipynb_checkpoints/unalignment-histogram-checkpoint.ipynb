{
 "cells": [
  {
   "cell_type": "code",
   "execution_count": 1,
   "metadata": {
    "collapsed": false
   },
   "outputs": [],
   "source": [
    "#%pylab inline"
   ]
  },
  {
   "cell_type": "code",
   "execution_count": 2,
   "metadata": {
    "collapsed": true
   },
   "outputs": [],
   "source": [
    "import matplotlib\n",
    "import numpy as np\n",
    "import matplotlib.pyplot as plt\n",
    "import matplotlib.lines as mlines\n",
    "from matplotlib.pyplot import *\n",
    "from __future__ import print_function\n",
    "from collections import defaultdict"
   ]
  },
  {
   "cell_type": "code",
   "execution_count": null,
   "metadata": {
    "collapsed": false
   },
   "outputs": [
    {
     "data": {
      "text/plain": [
       "([<matplotlib.axis.XTick at 0x10a47aa10>,\n",
       "  <matplotlib.axis.XTick at 0x10a47a190>,\n",
       "  <matplotlib.axis.XTick at 0x10a4d65d0>,\n",
       "  <matplotlib.axis.XTick at 0x10a4f37d0>],\n",
       " <a list of 4 Text xticklabel objects>)"
      ]
     },
     "execution_count": 3,
     "metadata": {},
     "output_type": "execute_result"
    }
   ],
   "source": [
    "import matplotlib.pyplot as plt\n",
    "d = {'All QC': 5, 'IDBA QC': 2, 'SPAdes qc': 2, 'Megahit QC': 1}\n",
    "\n",
    "plt.bar(range(len(d)), d.values(), align='center', color='g')\n",
    "plt.xticks(range(len(d)), d.keys(), rotation=25)"
   ]
  },
  {
   "cell_type": "code",
   "execution_count": null,
   "metadata": {
    "collapsed": false
   },
   "outputs": [],
   "source": [
    "import numpy as np\n",
    "import matplotlib.pyplot as plt\n",
    "\n",
    "fig = plt.figure()\n",
    "ax = fig.add_subplot(111)\n",
    "## the data\n",
    "N = 5\n",
    "incontigs = [5.57, 3.90, 3.29, 4.03,3.57]\n",
    "inreference = [0.75, 0.07, 0.22, 0.08, 0.07]\n",
    "\n",
    "width = 0.35   \n",
    "ind = np.arange(N)                # the x locations for the groups\n",
    "\n",
    "# axes and labels\n",
    "ax.set_xlim(-width,len(ind)+width)\n",
    "ax.set_ylim(0,15)\n",
    "ax.set_ylabel('Percentages of reads')\n",
    "\n",
    "## necessary variables\n",
    "                   # the width of the bars\n",
    "\n",
    "## the bars\n",
    "rects1 = ax.bar(ind, incontigs, width,color='#FFA500')\n",
    "rects2 = ax.bar(ind+width, inreference, width,color='g')\n",
    "\n",
    "ax.set_title('Scores by group and gender')\n",
    "xTickMarks = ['all', 'Velvet','IDBA','SPAdes','Megahit']\n",
    "ax.set_xticks(ind+width)\n",
    "xtickNames = ax.set_xticklabels(xTickMarks)\n",
    "plt.setp(xtickNames, rotation=45, fontsize=10)\n",
    "\n",
    "## add a legend\n",
    "ax.legend( (rects1[0], rects2[0]), ('Reads aligned to unaligned contigs', 'Reads aligned to unaligned contigs and exist in the reference') )\n",
    "\n",
    "plt.show()"
   ]
  },
  {
   "cell_type": "code",
   "execution_count": null,
   "metadata": {
    "collapsed": false
   },
   "outputs": [],
   "source": [
    "ind"
   ]
  },
  {
   "cell_type": "code",
   "execution_count": null,
   "metadata": {
    "collapsed": true
   },
   "outputs": [],
   "source": []
  },
  {
   "cell_type": "code",
   "execution_count": null,
   "metadata": {
    "collapsed": true
   },
   "outputs": [],
   "source": []
  }
 ],
 "metadata": {
  "kernelspec": {
   "display_name": "Python 2",
   "language": "python",
   "name": "python2"
  },
  "language_info": {
   "codemirror_mode": {
    "name": "ipython",
    "version": 2
   },
   "file_extension": ".py",
   "mimetype": "text/x-python",
   "name": "python",
   "nbconvert_exporter": "python",
   "pygments_lexer": "ipython2",
   "version": "2.7.10"
  }
 },
 "nbformat": 4,
 "nbformat_minor": 0
}
