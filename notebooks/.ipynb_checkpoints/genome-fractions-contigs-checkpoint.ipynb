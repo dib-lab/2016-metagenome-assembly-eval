{
 "cells": [
  {
   "cell_type": "code",
   "execution_count": 15,
   "metadata": {
    "collapsed": true
   },
   "outputs": [],
   "source": [
    "import matplotlib\n",
    "import numpy as np\n",
    "import matplotlib.pyplot as plt\n",
    "import matplotlib.lines as mlines\n",
    "from matplotlib.pyplot import *"
   ]
  },
  {
   "cell_type": "code",
   "execution_count": 16,
   "metadata": {
    "collapsed": true
   },
   "outputs": [],
   "source": [
    "contigs =[0, 250, 500, 750, 1000, 2000]"
   ]
  },
  {
   "cell_type": "code",
   "execution_count": 17,
   "metadata": {
    "collapsed": false
   },
   "outputs": [],
   "source": [
    "vqc_genome_fraction =[74.978,74.477,72.949,71.920,71.085,68.706]\n",
    "iqc_genome_fraction =[91.667,91.664,90.969,90.121,89.321,86.100] \n",
    "sqc_genome_fraction =[91.604,91.495,90.424,89.441,88.430,85.004] \n",
    "mqc_genome_fraction =[92.285,91.93,90.35,89.110,87.924,83.337]\n",
    "\n",
    "vdigi_genome_fraction =[90.758,90.493,89.043,87.654,86.26,81.100]\n",
    "idigi_genome_fraction =[91.404,91.403,90.969,90.396,89.796,87.065] \n",
    "sdigi_genome_fraction =[91.176,91.072,90.173,89.259,88.32,84.841] \n",
    "mdigi_genome_fraction =[91.332,91.129,89.920,88.654,87.28,82.053]\n",
    "\n",
    "vpart_genome_fraction =[90.689,90.422,88.879,87.222,85.486,78.322]\n",
    "ipart_genome_fraction =[90.667,90.667,90.667,89.194,88.274,84.312] \n",
    "spart_genome_fraction =[90.538,90.422,89.272,88.020,86.756,81.993] \n",
    "mpart_genome_fraction =[90.461,90.183,88.769,87.252,85.629,79.551]\n"
   ]
  },
  {
   "cell_type": "code",
   "execution_count": 18,
   "metadata": {
    "collapsed": false
   },
   "outputs": [
    {
     "data": {
      "text/plain": [
       "<matplotlib.legend.Legend at 0x113b8a1d0>"
      ]
     },
     "execution_count": 18,
     "metadata": {},
     "output_type": "execute_result"
    }
   ],
   "source": [
    "gf_vqc= plt.plot(contigs, vqc_genome_fraction ,color='r', linestyle='solid', linewidth=3, label ='Velvet QC', marker =\"*\")\n",
    "plt.legend(vqc_genome_fraction, \"Velvet QC\", 'best')\n",
    "\n",
    "gf_iqc= plt.plot(contigs, iqc_genome_fraction ,color='b', linestyle='solid', linewidth=3, label ='IDBA QC', marker =\"+\")\n",
    "plt.legend(iqc_genome_fraction, \"IDBA QC\", 'best')\n",
    "\n",
    "gf_sqc= plt.plot(contigs, sqc_genome_fraction ,color='#FFA500', linestyle='solid', linewidth=3, label ='SPAdes QC', marker =\"x\")\n",
    "plt.legend(sqc_genome_fraction, \"SPAdes QC\", 'best')\n",
    "\n",
    "gf_mqc= plt.plot(contigs, mqc_genome_fraction ,color='g', linestyle='solid', linewidth=3, label ='Megahit QC', marker =\"o\")\n",
    "plt.legend(mqc_genome_fraction, \"Megahit QC\", 'best')"
   ]
  },
  {
   "cell_type": "code",
   "execution_count": 19,
   "metadata": {
    "collapsed": false
   },
   "outputs": [
    {
     "data": {
      "text/plain": [
       "<matplotlib.legend.Legend at 0x113b9eb90>"
      ]
     },
     "execution_count": 19,
     "metadata": {},
     "output_type": "execute_result"
    }
   ],
   "source": [
    "gf_vdigi= plt.plot(contigs, vdigi_genome_fraction,color='r', linestyle='solid', linewidth=3, label ='Velvet Diginorm', marker =\"*\")\n",
    "plt.legend(vdigi_genome_fraction, \"Velvet Diginorm\", 'best')\n",
    "\n",
    "gf_idigi= plt.plot(contigs, idigi_genome_fraction,color='b', linestyle='solid', linewidth=3, label ='IDBA Diginorm', marker =\"+\")\n",
    "plt.legend(idigi_genome_fraction, \"IDBA Diginorm\", 'best')\n",
    "\n",
    "gf_sdigi= plt.plot(contigs, sdigi_genome_fraction,color='#FFA500', linestyle='solid', linewidth=3, label ='SPAdes Diginorm', marker =\"x\")\n",
    "plt.legend(sdigi_genome_fraction, \"SPAdes Diginorm\", 'best')\n",
    "\n",
    "gf_mdigi= plt.plot(contigs, mdigi_genome_fraction,color='g', linestyle='solid', linewidth=3, label ='Megahit Diginorm', marker =\"o\")\n",
    "plt.legend(mdigi_genome_fraction, \"Megahit Diginorm\", 'best')"
   ]
  },
  {
   "cell_type": "code",
   "execution_count": null,
   "metadata": {
    "collapsed": false
   },
   "outputs": [
    {
     "data": {
      "text/plain": [
       "<matplotlib.legend.Legend at 0x113bb4dd0>"
      ]
     },
     "execution_count": 20,
     "metadata": {},
     "output_type": "execute_result"
    }
   ],
   "source": [
    "gf_vpart= plt.plot(contigs, vpart_genome_fraction,color='r', linestyle='solid', linewidth=3, label ='Velvet Partition', marker =\"*\")\n",
    "plt.legend(vpart_genome_fraction, \"Velvet Partition\", 'best')\n",
    "\n",
    "gf_ipart= plt.plot(contigs, ipart_genome_fraction,color='b', linestyle='solid', linewidth=3, label ='IDBA Partition', marker =\"+\")\n",
    "plt.legend(ipart_genome_fraction, \"IDBA Partition\", 'best')\n",
    "\n",
    "gf_spart= plt.plot(contigs, spart_genome_fraction ,color='#FFA500', linestyle='solid', linewidth=3, label ='SPAdes Partition', marker =\"x\")\n",
    "plt.legend(spart_genome_fraction, \"SPAdes Partition\", 'best')\n",
    "\n",
    "gf_mpart= plt.plot(contigs, mpart_genome_fraction,color='g', linestyle='solid', linewidth=3, label ='Megahit Partition', marker =\"o\")\n",
    "plt.legend(mpart_genome_fraction, \"Megahit Partition\", 'best')"
   ]
  },
  {
   "cell_type": "code",
   "execution_count": null,
   "metadata": {
    "collapsed": false
   },
   "outputs": [],
   "source": [
    "plt.title('Assembly Genome Fraction using Different Minimum Contigs Length')\n",
    "plt.xlabel('Minimum Contig')\n",
    "plt.ylabel('Genome Fraction')\n",
    "plt.legend(loc='center right', bbox_to_anchor=(0.97, 0.27),\n",
    "          fancybox=True, shadow=True, ncol=2)\n",
    "plt.show()"
   ]
  },
  {
   "cell_type": "code",
   "execution_count": null,
   "metadata": {
    "collapsed": true
   },
   "outputs": [],
   "source": []
  },
  {
   "cell_type": "code",
   "execution_count": null,
   "metadata": {
    "collapsed": false
   },
   "outputs": [],
   "source": []
  },
  {
   "cell_type": "code",
   "execution_count": null,
   "metadata": {
    "collapsed": true
   },
   "outputs": [],
   "source": []
  },
  {
   "cell_type": "code",
   "execution_count": null,
   "metadata": {
    "collapsed": true
   },
   "outputs": [],
   "source": []
  },
  {
   "cell_type": "code",
   "execution_count": null,
   "metadata": {
    "collapsed": true
   },
   "outputs": [],
   "source": []
  },
  {
   "cell_type": "code",
   "execution_count": null,
   "metadata": {
    "collapsed": true
   },
   "outputs": [],
   "source": []
  }
 ],
 "metadata": {
  "kernelspec": {
   "display_name": "Python 2",
   "language": "python",
   "name": "python2"
  },
  "language_info": {
   "codemirror_mode": {
    "name": "ipython",
    "version": 2
   },
   "file_extension": ".py",
   "mimetype": "text/x-python",
   "name": "python",
   "nbconvert_exporter": "python",
   "pygments_lexer": "ipython2",
   "version": "2.7.10"
  }
 },
 "nbformat": 4,
 "nbformat_minor": 0
}
