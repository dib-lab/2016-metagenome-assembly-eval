{
 "cells": [
  {
   "cell_type": "code",
   "execution_count": 41,
   "metadata": {
    "collapsed": false
   },
   "outputs": [],
   "source": [
    "#%pylab inline"
   ]
  },
  {
   "cell_type": "code",
   "execution_count": 42,
   "metadata": {
    "collapsed": true
   },
   "outputs": [],
   "source": [
    "import matplotlib\n",
    "import numpy as np\n",
    "import matplotlib.pyplot as plt\n",
    "import matplotlib.lines as mlines\n",
    "from matplotlib.pyplot import *\n",
    "from __future__ import print_function\n",
    "from collections import defaultdict"
   ]
  },
  {
   "cell_type": "code",
   "execution_count": 43,
   "metadata": {
    "collapsed": false
   },
   "outputs": [
    {
     "data": {
      "text/plain": [
       "([<matplotlib.axis.XTick at 0x109b46150>,\n",
       "  <matplotlib.axis.XTick at 0x1063813d0>,\n",
       "  <matplotlib.axis.XTick at 0x10ae9da90>],\n",
       " <a list of 3 Text xticklabel objects>)"
      ]
     },
     "execution_count": 43,
     "metadata": {},
     "output_type": "execute_result"
    }
   ],
   "source": [
    "import matplotlib.pyplot as plt\n",
    "d = {'IDBA QC': 2, 'SPAdes qc': 2, 'Megahit QC': 1}\n",
    "\n",
    "plt.bar(range(len(d)), d.values(), align='center', color='g')\n",
    "plt.xticks(range(len(d)), d.keys(), rotation=25)"
   ]
  },
  {
   "cell_type": "code",
   "execution_count": 44,
   "metadata": {
    "collapsed": false
   },
   "outputs": [],
   "source": [
    "import numpy as np\n",
    "import matplotlib.pyplot as plt\n",
    "\n",
    "fig = plt.figure()\n",
    "ax = fig.add_subplot(111)\n",
    "## the data\n",
    "N =3\n",
    "refsize= 205603715 \n",
    "no_of_reads = 106326865\n",
    "iqc_aligned = 7186135 /1000000.0  \n",
    "iqc_mapped = 2656766 /1000000.0  \n",
    "\n",
    "sqc_aligned = 7020616/1000000.0  \n",
    "sqc_mapped = 2278468 /1000000.0  \n",
    "\n",
    "mqc_aligned = 7381857  /1000000.0  \n",
    "mqc_mapped = 2560989/1000000.0  \n",
    "\n",
    "\n",
    "incontigs = [iqc_aligned, sqc_aligned, mqc_aligned]\n",
    "inreference = [iqc_mapped, sqc_mapped, mqc_mapped]\n",
    "\n",
    "width = 0.35   \n",
    "ind = np.arange(N)                # the x locations for the groups\n",
    "\n",
    "# axes and labels\n",
    "ax.set_xlim(-width,len(ind)+width)\n",
    "ax.set_ylim(0,10)\n",
    "ax.set_ylabel('No. of reads in millions')\n",
    "\n",
    "## necessary variables\n",
    "                   # the width of the bars\n",
    "\n",
    "## the bars\n",
    "rects1 = ax.bar(ind, incontigs, width,color='#4863A0')\n",
    "rects2 = ax.bar(ind+width, inreference, width,color='#CCCCCC')\n",
    "\n",
    "ax.set_title('Reads Mapped to Unaligned Contigs')\n",
    "xTickMarks = ['IDBA','SPAdes','Megahit']\n",
    "ax.set_xticks(ind+width)\n",
    "xtickNames = ax.set_xticklabels(xTickMarks)\n",
    "plt.setp(xtickNames, rotation=45, fontsize=10)\n",
    "\n",
    "## add a legend\n",
    "ax.legend( (rects1[0], rects2[0]), ('Reads Mapped', 'Reads that also map to reference') )\n",
    "\n",
    "plt.show()"
   ]
  },
  {
   "cell_type": "code",
   "execution_count": 45,
   "metadata": {
    "collapsed": false
   },
   "outputs": [
    {
     "data": {
      "text/plain": [
       "array([0, 1, 2])"
      ]
     },
     "execution_count": 45,
     "metadata": {},
     "output_type": "execute_result"
    }
   ],
   "source": [
    "ind"
   ]
  },
  {
   "cell_type": "code",
   "execution_count": null,
   "metadata": {
    "collapsed": true
   },
   "outputs": [],
   "source": []
  },
  {
   "cell_type": "code",
   "execution_count": null,
   "metadata": {
    "collapsed": true
   },
   "outputs": [],
   "source": []
  }
 ],
 "metadata": {
  "kernelspec": {
   "display_name": "Python 2",
   "language": "python",
   "name": "python2"
  },
  "language_info": {
   "codemirror_mode": {
    "name": "ipython",
    "version": 2
   },
   "file_extension": ".py",
   "mimetype": "text/x-python",
   "name": "python",
   "nbconvert_exporter": "python",
   "pygments_lexer": "ipython2",
   "version": "2.7.10"
  }
 },
 "nbformat": 4,
 "nbformat_minor": 0
}
