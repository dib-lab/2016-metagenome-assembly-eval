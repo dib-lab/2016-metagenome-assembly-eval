{
 "cells": [
  {
   "cell_type": "code",
   "execution_count": 1,
   "metadata": {
    "collapsed": false
   },
   "outputs": [],
   "source": [
    "#%pylab inline"
   ]
  },
  {
   "cell_type": "code",
   "execution_count": 1,
   "metadata": {
    "collapsed": true,
    "scrolled": true
   },
   "outputs": [],
   "source": [
    "import matplotlib\n",
    "import numpy as np\n",
    "import matplotlib.pyplot as plt\n",
    "import matplotlib.lines as mlines\n",
    "from matplotlib.pyplot import *\n",
    "from __future__ import print_function\n",
    "from collections import defaultdict"
   ]
  },
  {
   "cell_type": "code",
   "execution_count": 3,
   "metadata": {
    "collapsed": false,
    "scrolled": true
   },
   "outputs": [
    {
     "name": "stdout",
     "output_type": "stream",
     "text": [
      "12401783.0\n",
      "done\n"
     ]
    }
   ],
   "source": [
    "refsize=205603715\n",
    "cov={}\n",
    "count={}\n",
    "cov=[0]*371\n",
    "count=[0]*371\n",
    "i =0 \n",
    "summ =0 \n",
    "for line in open(\"../new.common.uncovered500.coverage.out\"):\n",
    "            x = line.rstrip().split(' ')\n",
    "            cov[i]=float(x[0])\n",
    "            count[i]=float(x[1])  \n",
    "            summ += count[i]\n",
    "            i +=1\n",
    "            if i >370:\n",
    "                    break\n",
    " \n",
    "for i in range(0,370):\n",
    "        count[i] =(count[i]/summ)\n",
    "print(summ)\n",
    "\n",
    "\n",
    "#Y= np.loadtxt(\"../SRR606249.qc.coverage\")\n",
    "\n",
    "\n",
    "Y =count \n",
    "X =cov \n",
    "\n",
    "# Compute the CDF\n",
    "CY = np.cumsum(Y)\n",
    "\n",
    "# Plot both\n",
    "#plot(X,Y,color='green', linestyle='solid', linewidth=4, label ='Mapping Coverage')\n",
    "#plot(X,CY,'r--')\n",
    "plt.plot(X, CY,color='#4863A0', linestyle='solid', linewidth=4, label ='Mapping Coverage')\n",
    "plt.title('Coverage profile for the Common Uncovered Bases')\n",
    "plt.axis(xmax=200.0)\n",
    "plt.axis(ymax=1.0)\n",
    "plt.xlabel('Coverage')\n",
    "#plt.ylabel('Cummulative bases count')\n",
    "plt.show()\n",
    "print('done')\n"
   ]
  },
  {
   "cell_type": "code",
   "execution_count": 4,
   "metadata": {
    "collapsed": false
   },
   "outputs": [
    {
     "name": "stdout",
     "output_type": "stream",
     "text": [
      "done\n"
     ]
    }
   ],
   "source": [
    "plt.plot(cov, count,color='#4863A0', linestyle='solid', linewidth=4, label ='Mapping Coverage ')\n",
    "plt.title('Coverage profile for Common Uncovered Bases')\n",
    "plt.xlabel('Coverage')\n",
    "plt.ylabel('Percentages of bases with that coverage')\n",
    "plt.axis(xmax=50)\n",
    "plt.ylim(0,5)\n",
    "legend()\n",
    "plt.show()\n",
    "print('done')"
   ]
  },
  {
   "cell_type": "code",
   "execution_count": null,
   "metadata": {
    "collapsed": true
   },
   "outputs": [],
   "source": []
  }
 ],
 "metadata": {
  "kernelspec": {
   "display_name": "Python 2",
   "language": "python",
   "name": "python2"
  },
  "language_info": {
   "codemirror_mode": {
    "name": "ipython",
    "version": 2
   },
   "file_extension": ".py",
   "mimetype": "text/x-python",
   "name": "python",
   "nbconvert_exporter": "python",
   "pygments_lexer": "ipython2",
   "version": "2.7.10"
  }
 },
 "nbformat": 4,
 "nbformat_minor": 0
}
