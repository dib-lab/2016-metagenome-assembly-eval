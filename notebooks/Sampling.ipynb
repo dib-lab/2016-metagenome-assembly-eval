{
 "cells": [
  {
   "cell_type": "code",
   "execution_count": 9,
   "metadata": {
    "collapsed": false
   },
   "outputs": [],
   "source": [
    "import matplotlib\n",
    "import numpy as np\n",
    "import matplotlib.pyplot as plt1\n",
    "import matplotlib.pyplot as plt2\n",
    "import matplotlib.lines as mlines\n",
    "from matplotlib.pyplot import *"
   ]
  },
  {
   "cell_type": "code",
   "execution_count": 10,
   "metadata": {
    "collapsed": true,
    "scrolled": true
   },
   "outputs": [],
   "source": [
    "#x =[0, 5,12.5,25, 50, 75, 100]\n",
    "x =[0,5,25, 50,75, 100] #without50 now [0,25, 50, 75, 100]"
   ]
  },
  {
   "cell_type": "code",
   "execution_count": 11,
   "metadata": {
    "collapsed": false
   },
   "outputs": [],
   "source": [
    "#vqc_genome_fraction = [0,23.51,46.91,63.529,70.092,71.305,72.949]\n",
    "#iqc_genome_fraction = [0,26.82,57.07,76.980,84.664,86.902,90.969]\n",
    "#sqc_genome_fraction = [0,31.50,62.47,80.057,86.001,87.543,90.424]\n",
    "#mqc_genome_fraction = [0,25.1,55.66,76.192,83.874,86.001,90.358]\n",
    "\n",
    "\n",
    "#vqc_genome_fraction = [0,63.529,70.092,71.305,72.949]\n",
    "iqc_genome_fraction = [0,32.65, 77.38,83.66,85.5,89.56]\n",
    "sqc_genome_fraction = [0,46.15,82.53,86.11,87.06,89.4]\n",
    "mqc_genome_fraction = [0,38.14,81.30,86.53,88.08,90.6]\n",
    "\n",
    "\n",
    "\n",
    "iqc_duplication_ratio =[0,0.54,0.75,0.59, 0.52,0.36]\n",
    "sqc_duplication_ratio =[0,0.54,0.65,0.57, 0.49,0.48]\n",
    "mqc_duplication_ratio =[0,0.64,0.82, 0.69,0.65,3.23]\n",
    "\n",
    "\n",
    "\n"
   ]
  },
  {
   "cell_type": "code",
   "execution_count": 12,
   "metadata": {
    "collapsed": false
   },
   "outputs": [
    {
     "name": "stderr",
     "output_type": "stream",
     "text": [
      "/Users/sherine/anaconda/lib/python2.7/site-packages/matplotlib/cbook.py:137: MatplotlibDeprecationWarning: The \"loc\" positional argument to legend is deprecated. Please use the \"loc\" keyword instead.\n",
      "  warnings.warn(message, mplDeprecation, stacklevel=1)\n"
     ]
    },
    {
     "data": {
      "text/plain": [
       "<matplotlib.legend.Legend at 0x10a4d9a50>"
      ]
     },
     "execution_count": 12,
     "metadata": {},
     "output_type": "execute_result"
    }
   ],
   "source": [
    "iqc_gf= plt1.plot(x,iqc_genome_fraction,color='g', linestyle='solid', linewidth=3, label ='IDBAQC', marker =\"^\")\n",
    "plt1.legend(iqc_gf, \"IQC \", 'best')"
   ]
  },
  {
   "cell_type": "code",
   "execution_count": 13,
   "metadata": {
    "collapsed": false
   },
   "outputs": [
    {
     "data": {
      "text/plain": [
       "<matplotlib.legend.Legend at 0x10a4e6950>"
      ]
     },
     "execution_count": 13,
     "metadata": {},
     "output_type": "execute_result"
    }
   ],
   "source": [
    "sqc_gf= plt1.plot(x,sqc_genome_fraction,color='#FFA500', linestyle='solid', linewidth=3, label ='SPAdes QC', marker=\"^\")\n",
    "plt.legend(sqc_gf, \"SQC \", 'best')"
   ]
  },
  {
   "cell_type": "code",
   "execution_count": 14,
   "metadata": {
    "collapsed": false
   },
   "outputs": [
    {
     "data": {
      "text/plain": [
       "<matplotlib.legend.Legend at 0x10a507150>"
      ]
     },
     "execution_count": 14,
     "metadata": {},
     "output_type": "execute_result"
    }
   ],
   "source": [
    "mqc_gf= plt1.plot(x,mqc_genome_fraction,color='#999999', linestyle='solid', linewidth=3, label ='Megahit QC', marker=\"^\")\n",
    "plt1.legend(mqc_gf, \"MQC \", 'best')"
   ]
  },
  {
   "cell_type": "code",
   "execution_count": 15,
   "metadata": {
    "collapsed": false
   },
   "outputs": [],
   "source": [
    "plt1.title('Genome Fraction% using QC for different Coverage')\n",
    "plt1.xlabel('Percentage of Reads')\n",
    "plt1.ylabel('Genome Fraction %')\n",
    "#legend()\n",
    "plt1.legend(loc='center right', bbox_to_anchor=(0.97, 0.27),\n",
    "          fancybox=True, shadow=True, ncol=1)\n",
    "plt1.show()"
   ]
  },
  {
   "cell_type": "code",
   "execution_count": 16,
   "metadata": {
    "collapsed": false
   },
   "outputs": [
    {
     "data": {
      "text/plain": [
       "<matplotlib.legend.Legend at 0x10a513750>"
      ]
     },
     "execution_count": 16,
     "metadata": {},
     "output_type": "execute_result"
    }
   ],
   "source": [
    "iqc_dr= plt2.plot(x,iqc_duplication_ratio,color='g', linestyle='solid', linewidth=3, label ='IDBA QC', marker =\"^\")\n",
    "plt2.legend(iqc_dr, \"IQC \", 'best')"
   ]
  },
  {
   "cell_type": "code",
   "execution_count": 17,
   "metadata": {
    "collapsed": false
   },
   "outputs": [
    {
     "data": {
      "text/plain": [
       "<matplotlib.legend.Legend at 0x110916cd0>"
      ]
     },
     "execution_count": 17,
     "metadata": {},
     "output_type": "execute_result"
    }
   ],
   "source": [
    "sqc_dr= plt2.plot(x,sqc_duplication_ratio,color='#FFA500', linestyle='solid', linewidth=3, label ='SPAdes QC', marker =\"^\")\n",
    "plt2.legend(sqc_dr, \"SQC\", 'best')"
   ]
  },
  {
   "cell_type": "code",
   "execution_count": 18,
   "metadata": {
    "collapsed": false
   },
   "outputs": [
    {
     "data": {
      "text/plain": [
       "<matplotlib.legend.Legend at 0x11092d210>"
      ]
     },
     "execution_count": 18,
     "metadata": {},
     "output_type": "execute_result"
    }
   ],
   "source": [
    "mqc_dr= plt2.plot(x,mqc_duplication_ratio,color='#999999', linestyle='solid', linewidth=3, label ='Megahit QC', marker =\"^\")\n",
    "plt2.legend(mqc_dr, \"MQC \", 'best')"
   ]
  },
  {
   "cell_type": "code",
   "execution_count": 19,
   "metadata": {
    "collapsed": false
   },
   "outputs": [],
   "source": [
    "plt2.title('Duplication Ratio using  QC for different Coverage')\n",
    "plt2.xlabel('Percentage of Reads')\n",
    "plt2.ylabel('Duplication Ratio %')\n",
    "#legend()\n",
    "plt2.legend(loc='upper right', bbox_to_anchor=(0.40, 0.95),\n",
    "          fancybox=True, shadow=True, ncol=1)\n",
    "plt2.show()"
   ]
  },
  {
   "cell_type": "code",
   "execution_count": null,
   "metadata": {
    "collapsed": true,
    "scrolled": true
   },
   "outputs": [],
   "source": []
  },
  {
   "cell_type": "code",
   "execution_count": null,
   "metadata": {
    "collapsed": true
   },
   "outputs": [],
   "source": []
  },
  {
   "cell_type": "code",
   "execution_count": null,
   "metadata": {
    "collapsed": true
   },
   "outputs": [],
   "source": []
  }
 ],
 "metadata": {
  "kernelspec": {
   "display_name": "Python 2",
   "language": "python",
   "name": "python2"
  },
  "language_info": {
   "codemirror_mode": {
    "name": "ipython",
    "version": 2
   },
   "file_extension": ".py",
   "mimetype": "text/x-python",
   "name": "python",
   "nbconvert_exporter": "python",
   "pygments_lexer": "ipython2",
   "version": "2.7.10"
  }
 },
 "nbformat": 4,
 "nbformat_minor": 0
}
